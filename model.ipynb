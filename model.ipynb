{
 "cells": [
  {
   "cell_type": "markdown",
   "metadata": {},
   "source": [
    "---\n",
    "# **Plane Price Prediction**"
   ]
  },
  {
   "cell_type": "markdown",
   "metadata": {
    "vscode": {
     "languageId": "plaintext"
    }
   },
   "source": [
    "---\n",
    "#### **objective of this analysis:**\n",
    "1. **understanding key factors that unfluences a plane price**\n",
    "2. **analysing price sensibilty to the plane features**\n",
    "3. **building a ML model for predicting the price of a plane**\n",
    "---"
   ]
  },
  {
   "cell_type": "markdown",
   "metadata": {
    "vscode": {
     "languageId": "plaintext"
    }
   },
   "source": [
    "#### **Project workflow:**\n",
    "1. **importing libraries**\n",
    "1. **data cleaning and preprocessing**\n",
    "2. **EDA and hypothesis making**\n",
    "3. **data preparation for ML model ( scaling , standardisation,encoding )**\n",
    "4. **model building(training,testing)**\n",
    "5. **model evaluation and hyperparams tuning**\n",
    "---"
   ]
  },
  {
   "cell_type": "markdown",
   "metadata": {},
   "source": [
    "1. **importing libraries**"
   ]
  },
  {
   "cell_type": "code",
   "execution_count": 100,
   "metadata": {},
   "outputs": [],
   "source": [
    "import pandas as pd \n",
    "import numpy as np \n",
    "import matplotlib.pyplot as plt \n",
    "import seaborn as sns "
   ]
  },
  {
   "cell_type": "markdown",
   "metadata": {},
   "source": [
    "2. **data cleaning and preprocessing**"
   ]
  },
  {
   "cell_type": "code",
   "execution_count": 101,
   "metadata": {},
   "outputs": [
    {
     "data": {
      "text/html": [
       "<div>\n",
       "<style scoped>\n",
       "    .dataframe tbody tr th:only-of-type {\n",
       "        vertical-align: middle;\n",
       "    }\n",
       "\n",
       "    .dataframe tbody tr th {\n",
       "        vertical-align: top;\n",
       "    }\n",
       "\n",
       "    .dataframe thead th {\n",
       "        text-align: right;\n",
       "    }\n",
       "</style>\n",
       "<table border=\"1\" class=\"dataframe\">\n",
       "  <thead>\n",
       "    <tr style=\"text-align: right;\">\n",
       "      <th></th>\n",
       "      <th>Model Name</th>\n",
       "      <th>Engine Type</th>\n",
       "      <th>HP or lbs thr ea engine</th>\n",
       "      <th>Max speed Knots</th>\n",
       "      <th>Rcmnd cruise Knots</th>\n",
       "      <th>Stall Knots dirty</th>\n",
       "      <th>Fuel gal/lbs</th>\n",
       "      <th>All eng rate of climb</th>\n",
       "      <th>Eng out rate of climb</th>\n",
       "      <th>Takeoff over 50ft</th>\n",
       "      <th>Landing over 50ft</th>\n",
       "      <th>Empty weight lbs</th>\n",
       "      <th>Length ft/in</th>\n",
       "      <th>Wing span ft/in</th>\n",
       "      <th>Range N.M.</th>\n",
       "      <th>Price</th>\n",
       "    </tr>\n",
       "  </thead>\n",
       "  <tbody>\n",
       "    <tr>\n",
       "      <th>0</th>\n",
       "      <td>100 Darter (S.L. Industries)</td>\n",
       "      <td>Piston</td>\n",
       "      <td>145</td>\n",
       "      <td>104</td>\n",
       "      <td>91.0</td>\n",
       "      <td>46.0</td>\n",
       "      <td>36</td>\n",
       "      <td>450</td>\n",
       "      <td>900.0</td>\n",
       "      <td>1300.0</td>\n",
       "      <td>2,050</td>\n",
       "      <td>1,180</td>\n",
       "      <td>25/3</td>\n",
       "      <td>37/5</td>\n",
       "      <td>370</td>\n",
       "      <td>1300000.0</td>\n",
       "    </tr>\n",
       "    <tr>\n",
       "      <th>1</th>\n",
       "      <td>7 CCM Champ</td>\n",
       "      <td>Piston</td>\n",
       "      <td>85</td>\n",
       "      <td>89</td>\n",
       "      <td>83.0</td>\n",
       "      <td>44.0</td>\n",
       "      <td>15</td>\n",
       "      <td>600</td>\n",
       "      <td>720.0</td>\n",
       "      <td>800.0</td>\n",
       "      <td>1,350</td>\n",
       "      <td>820</td>\n",
       "      <td>20/7</td>\n",
       "      <td>36/1</td>\n",
       "      <td>190</td>\n",
       "      <td>1230000.0</td>\n",
       "    </tr>\n",
       "    <tr>\n",
       "      <th>2</th>\n",
       "      <td>100 Darter (S.L. Industries)</td>\n",
       "      <td>Piston</td>\n",
       "      <td>90</td>\n",
       "      <td>90</td>\n",
       "      <td>78.0</td>\n",
       "      <td>37.0</td>\n",
       "      <td>19</td>\n",
       "      <td>650</td>\n",
       "      <td>475.0</td>\n",
       "      <td>850.0</td>\n",
       "      <td>1,300</td>\n",
       "      <td>810</td>\n",
       "      <td>21/5</td>\n",
       "      <td>35/0</td>\n",
       "      <td>210</td>\n",
       "      <td>1600000.0</td>\n",
       "    </tr>\n",
       "    <tr>\n",
       "      <th>3</th>\n",
       "      <td>7 AC Champ</td>\n",
       "      <td>Piston</td>\n",
       "      <td>85</td>\n",
       "      <td>88</td>\n",
       "      <td>78.0</td>\n",
       "      <td>37.0</td>\n",
       "      <td>19</td>\n",
       "      <td>620</td>\n",
       "      <td>500.0</td>\n",
       "      <td>850.0</td>\n",
       "      <td>1,300</td>\n",
       "      <td>800</td>\n",
       "      <td>21/5</td>\n",
       "      <td>35/0</td>\n",
       "      <td>210</td>\n",
       "      <td>1300000.0</td>\n",
       "    </tr>\n",
       "    <tr>\n",
       "      <th>4</th>\n",
       "      <td>100 Darter (S.L. Industries)</td>\n",
       "      <td>Piston</td>\n",
       "      <td>65</td>\n",
       "      <td>83</td>\n",
       "      <td>74.0</td>\n",
       "      <td>33.0</td>\n",
       "      <td>14</td>\n",
       "      <td>370</td>\n",
       "      <td>632.0</td>\n",
       "      <td>885.0</td>\n",
       "      <td>1,220</td>\n",
       "      <td>740</td>\n",
       "      <td>21/5</td>\n",
       "      <td>35/0</td>\n",
       "      <td>175</td>\n",
       "      <td>1250000.0</td>\n",
       "    </tr>\n",
       "  </tbody>\n",
       "</table>\n",
       "</div>"
      ],
      "text/plain": [
       "                     Model Name Engine Type HP or lbs thr ea engine  \\\n",
       "0  100 Darter (S.L. Industries)      Piston                     145   \n",
       "1                   7 CCM Champ      Piston                      85   \n",
       "2  100 Darter (S.L. Industries)      Piston                      90   \n",
       "3                    7 AC Champ      Piston                      85   \n",
       "4  100 Darter (S.L. Industries)      Piston                      65   \n",
       "\n",
       "  Max speed Knots  Rcmnd cruise Knots  Stall Knots dirty  Fuel gal/lbs  \\\n",
       "0             104                91.0               46.0            36   \n",
       "1              89                83.0               44.0            15   \n",
       "2              90                78.0               37.0            19   \n",
       "3              88                78.0               37.0            19   \n",
       "4              83                74.0               33.0            14   \n",
       "\n",
       "  All eng rate of climb  Eng out rate of climb  Takeoff over 50ft  \\\n",
       "0                   450                  900.0             1300.0   \n",
       "1                   600                  720.0              800.0   \n",
       "2                   650                  475.0              850.0   \n",
       "3                   620                  500.0              850.0   \n",
       "4                   370                  632.0              885.0   \n",
       "\n",
       "  Landing over 50ft Empty weight lbs Length ft/in Wing span ft/in Range N.M.  \\\n",
       "0             2,050            1,180         25/3            37/5        370   \n",
       "1             1,350              820         20/7            36/1        190   \n",
       "2             1,300              810         21/5            35/0        210   \n",
       "3             1,300              800         21/5            35/0        210   \n",
       "4             1,220              740         21/5            35/0        175   \n",
       "\n",
       "       Price  \n",
       "0  1300000.0  \n",
       "1  1230000.0  \n",
       "2  1600000.0  \n",
       "3  1300000.0  \n",
       "4  1250000.0  "
      ]
     },
     "execution_count": 101,
     "metadata": {},
     "output_type": "execute_result"
    }
   ],
   "source": [
    "df = pd.read_csv(\"Plane Price.csv\")\n",
    "df.head()"
   ]
  },
  {
   "cell_type": "code",
   "execution_count": 102,
   "metadata": {},
   "outputs": [
    {
     "data": {
      "text/plain": [
       "<Axes: >"
      ]
     },
     "execution_count": 102,
     "metadata": {},
     "output_type": "execute_result"
    },
    {
     "data": {
      "image/png": "[encoded data removed]",
      "text/plain": [
       "<Figure size 640x480 with 1 Axes>"
      ]
     },
     "metadata": {},
     "output_type": "display_data"
    }
   ],
   "source": [
    "df.isnull().sum().plot(kind='bar')"
   ]
  },
  {
   "cell_type": "code",
   "execution_count": 103,
   "metadata": {},
   "outputs": [
    {
     "data": {
      "text/plain": [
       "<Axes: >"
      ]
     },
     "execution_count": 103,
     "metadata": {},
     "output_type": "execute_result"
    },
    {
     "data": {
      "image/png": "[encoded data removed]",
      "text/plain": [
       "<Figure size 640x480 with 1 Axes>"
      ]
     },
     "metadata": {},
     "output_type": "display_data"
    }
   ],
   "source": [
    "df.isna().sum().plot(kind='bar')"
   ]
  },
  {
   "cell_type": "code",
   "execution_count": 104,
   "metadata": {},
   "outputs": [],
   "source": [
    "df.dropna(axis=0,inplace=True)"
   ]
  },
  {
   "cell_type": "code",
   "execution_count": 105,
   "metadata": {},
   "outputs": [
    {
     "data": {
      "text/plain": [
       "Model Name                  object\n",
       "Engine Type                 object\n",
       "HP or lbs thr ea engine     object\n",
       "Max speed Knots             object\n",
       "Rcmnd cruise Knots         float64\n",
       "Stall Knots dirty          float64\n",
       "Fuel gal/lbs                 int64\n",
       "All eng rate of climb       object\n",
       "Eng out rate of climb      float64\n",
       "Takeoff over 50ft          float64\n",
       "Landing over 50ft           object\n",
       "Empty weight lbs            object\n",
       "Length ft/in                object\n",
       "Wing span ft/in             object\n",
       "Range N.M.                  object\n",
       "Price                      float64\n",
       "dtype: object"
      ]
     },
     "execution_count": 105,
     "metadata": {},
     "output_type": "execute_result"
    }
   ],
   "source": [
    "df.dtypes"
   ]
  },
  {
   "cell_type": "code",
   "execution_count": 106,
   "metadata": {},
   "outputs": [
    {
     "data": {
      "text/plain": [
       "Index(['HP or lbs thr ea engine', 'Max speed Knots', 'Rcmnd cruise Knots',\n",
       "       'Stall Knots dirty', 'Fuel gal/lbs', 'All eng rate of climb',\n",
       "       'Eng out rate of climb', 'Takeoff over 50ft', 'Landing over 50ft',\n",
       "       'Empty weight lbs', 'Length ft/in', 'Wing span ft/in', 'Range N.M.',\n",
       "       'Price'],\n",
       "      dtype='object')"
      ]
     },
     "execution_count": 106,
     "metadata": {},
     "output_type": "execute_result"
    }
   ],
   "source": [
    "df.columns[2:]"
   ]
  },
  {
   "cell_type": "markdown",
   "metadata": {},
   "source": [
    "*our first problem is the comma ``,`` in our numbers , so we need to replace the comma with void*"
   ]
  },
  {
   "cell_type": "code",
   "execution_count": 107,
   "metadata": {},
   "outputs": [],
   "source": [
    "for col in df.columns[2:]:\n",
    "    if df[col].dtype == 'object':\n",
    "        df[col] = df[col].str.replace(',', '').str.strip()"
   ]
  },
  {
   "cell_type": "code",
   "execution_count": 108,
   "metadata": {},
   "outputs": [
    {
     "data": {
      "text/html": [
       "<div>\n",
       "<style scoped>\n",
       "    .dataframe tbody tr th:only-of-type {\n",
       "        vertical-align: middle;\n",
       "    }\n",
       "\n",
       "    .dataframe tbody tr th {\n",
       "        vertical-align: top;\n",
       "    }\n",
       "\n",
       "    .dataframe thead th {\n",
       "        text-align: right;\n",
       "    }\n",
       "</style>\n",
       "<table border=\"1\" class=\"dataframe\">\n",
       "  <thead>\n",
       "    <tr style=\"text-align: right;\">\n",
       "      <th></th>\n",
       "      <th>Model Name</th>\n",
       "      <th>Engine Type</th>\n",
       "      <th>HP or lbs thr ea engine</th>\n",
       "      <th>Max speed Knots</th>\n",
       "      <th>Rcmnd cruise Knots</th>\n",
       "      <th>Stall Knots dirty</th>\n",
       "      <th>Fuel gal/lbs</th>\n",
       "      <th>All eng rate of climb</th>\n",
       "      <th>Eng out rate of climb</th>\n",
       "      <th>Takeoff over 50ft</th>\n",
       "      <th>Landing over 50ft</th>\n",
       "      <th>Empty weight lbs</th>\n",
       "      <th>Length ft/in</th>\n",
       "      <th>Wing span ft/in</th>\n",
       "      <th>Range N.M.</th>\n",
       "      <th>Price</th>\n",
       "    </tr>\n",
       "  </thead>\n",
       "  <tbody>\n",
       "    <tr>\n",
       "      <th>0</th>\n",
       "      <td>100 Darter (S.L. Industries)</td>\n",
       "      <td>Piston</td>\n",
       "      <td>145</td>\n",
       "      <td>104</td>\n",
       "      <td>91.0</td>\n",
       "      <td>46.0</td>\n",
       "      <td>36</td>\n",
       "      <td>450</td>\n",
       "      <td>900.0</td>\n",
       "      <td>1300.0</td>\n",
       "      <td>2050</td>\n",
       "      <td>1180</td>\n",
       "      <td>25/3</td>\n",
       "      <td>37/5</td>\n",
       "      <td>370</td>\n",
       "      <td>1300000.0</td>\n",
       "    </tr>\n",
       "    <tr>\n",
       "      <th>1</th>\n",
       "      <td>7 CCM Champ</td>\n",
       "      <td>Piston</td>\n",
       "      <td>85</td>\n",
       "      <td>89</td>\n",
       "      <td>83.0</td>\n",
       "      <td>44.0</td>\n",
       "      <td>15</td>\n",
       "      <td>600</td>\n",
       "      <td>720.0</td>\n",
       "      <td>800.0</td>\n",
       "      <td>1350</td>\n",
       "      <td>820</td>\n",
       "      <td>20/7</td>\n",
       "      <td>36/1</td>\n",
       "      <td>190</td>\n",
       "      <td>1230000.0</td>\n",
       "    </tr>\n",
       "    <tr>\n",
       "      <th>2</th>\n",
       "      <td>100 Darter (S.L. Industries)</td>\n",
       "      <td>Piston</td>\n",
       "      <td>90</td>\n",
       "      <td>90</td>\n",
       "      <td>78.0</td>\n",
       "      <td>37.0</td>\n",
       "      <td>19</td>\n",
       "      <td>650</td>\n",
       "      <td>475.0</td>\n",
       "      <td>850.0</td>\n",
       "      <td>1300</td>\n",
       "      <td>810</td>\n",
       "      <td>21/5</td>\n",
       "      <td>35/0</td>\n",
       "      <td>210</td>\n",
       "      <td>1600000.0</td>\n",
       "    </tr>\n",
       "    <tr>\n",
       "      <th>3</th>\n",
       "      <td>7 AC Champ</td>\n",
       "      <td>Piston</td>\n",
       "      <td>85</td>\n",
       "      <td>88</td>\n",
       "      <td>78.0</td>\n",
       "      <td>37.0</td>\n",
       "      <td>19</td>\n",
       "      <td>620</td>\n",
       "      <td>500.0</td>\n",
       "      <td>850.0</td>\n",
       "      <td>1300</td>\n",
       "      <td>800</td>\n",
       "      <td>21/5</td>\n",
       "      <td>35/0</td>\n",
       "      <td>210</td>\n",
       "      <td>1300000.0</td>\n",
       "    </tr>\n",
       "    <tr>\n",
       "      <th>4</th>\n",
       "      <td>100 Darter (S.L. Industries)</td>\n",
       "      <td>Piston</td>\n",
       "      <td>65</td>\n",
       "      <td>83</td>\n",
       "      <td>74.0</td>\n",
       "      <td>33.0</td>\n",
       "      <td>14</td>\n",
       "      <td>370</td>\n",
       "      <td>632.0</td>\n",
       "      <td>885.0</td>\n",
       "      <td>1220</td>\n",
       "      <td>740</td>\n",
       "      <td>21/5</td>\n",
       "      <td>35/0</td>\n",
       "      <td>175</td>\n",
       "      <td>1250000.0</td>\n",
       "    </tr>\n",
       "  </tbody>\n",
       "</table>\n",
       "</div>"
      ],
      "text/plain": [
       "                     Model Name Engine Type HP or lbs thr ea engine  \\\n",
       "0  100 Darter (S.L. Industries)      Piston                     145   \n",
       "1                   7 CCM Champ      Piston                      85   \n",
       "2  100 Darter (S.L. Industries)      Piston                      90   \n",
       "3                    7 AC Champ      Piston                      85   \n",
       "4  100 Darter (S.L. Industries)      Piston                      65   \n",
       "\n",
       "  Max speed Knots  Rcmnd cruise Knots  Stall Knots dirty  Fuel gal/lbs  \\\n",
       "0             104                91.0               46.0            36   \n",
       "1              89                83.0               44.0            15   \n",
       "2              90                78.0               37.0            19   \n",
       "3              88                78.0               37.0            19   \n",
       "4              83                74.0               33.0            14   \n",
       "\n",
       "  All eng rate of climb  Eng out rate of climb  Takeoff over 50ft  \\\n",
       "0                   450                  900.0             1300.0   \n",
       "1                   600                  720.0              800.0   \n",
       "2                   650                  475.0              850.0   \n",
       "3                   620                  500.0              850.0   \n",
       "4                   370                  632.0              885.0   \n",
       "\n",
       "  Landing over 50ft Empty weight lbs Length ft/in Wing span ft/in Range N.M.  \\\n",
       "0              2050             1180         25/3            37/5        370   \n",
       "1              1350              820         20/7            36/1        190   \n",
       "2              1300              810         21/5            35/0        210   \n",
       "3              1300              800         21/5            35/0        210   \n",
       "4              1220              740         21/5            35/0        175   \n",
       "\n",
       "       Price  \n",
       "0  1300000.0  \n",
       "1  1230000.0  \n",
       "2  1600000.0  \n",
       "3  1300000.0  \n",
       "4  1250000.0  "
      ]
     },
     "execution_count": 108,
     "metadata": {},
     "output_type": "execute_result"
    }
   ],
   "source": [
    "df.head()"
   ]
  },
  {
   "cell_type": "markdown",
   "metadata": {},
   "source": [
    " \n",
    " 2. The columns `['Length ft/in', 'Wing span ft/in']` contain values with a backslash (`/`), \n",
    " *    which prevents the conversion of these values to float. \n",
    " *    To resolve this, a function will be created to convert the measurements to inches, \n",
    " *    thereby eliminating the backslash and facilitating numerical transformations.\n",
    " *\n"
   ]
  },
  {
   "cell_type": "code",
   "execution_count": 109,
   "metadata": {},
   "outputs": [],
   "source": [
    "def ft_to_inch(x):\n",
    "    try:\n",
    "        ft,inch = x.split('/')\n",
    "        ft = int(ft)\n",
    "        inch = int(inch)\n",
    "        return (ft*12)+inch\n",
    "    except:\n",
    "        np.nan    "
   ]
  },
  {
   "cell_type": "code",
   "execution_count": 110,
   "metadata": {},
   "outputs": [
    {
     "data": {
      "text/html": [
       "<div>\n",
       "<style scoped>\n",
       "    .dataframe tbody tr th:only-of-type {\n",
       "        vertical-align: middle;\n",
       "    }\n",
       "\n",
       "    .dataframe tbody tr th {\n",
       "        vertical-align: top;\n",
       "    }\n",
       "\n",
       "    .dataframe thead th {\n",
       "        text-align: right;\n",
       "    }\n",
       "</style>\n",
       "<table border=\"1\" class=\"dataframe\">\n",
       "  <thead>\n",
       "    <tr style=\"text-align: right;\">\n",
       "      <th></th>\n",
       "      <th>Model Name</th>\n",
       "      <th>Engine Type</th>\n",
       "      <th>HP or lbs thr ea engine</th>\n",
       "      <th>Max speed Knots</th>\n",
       "      <th>Rcmnd cruise Knots</th>\n",
       "      <th>Stall Knots dirty</th>\n",
       "      <th>Fuel gal/lbs</th>\n",
       "      <th>All eng rate of climb</th>\n",
       "      <th>Eng out rate of climb</th>\n",
       "      <th>Takeoff over 50ft</th>\n",
       "      <th>Landing over 50ft</th>\n",
       "      <th>Empty weight lbs</th>\n",
       "      <th>Length ft/in</th>\n",
       "      <th>Wing span ft/in</th>\n",
       "      <th>Range N.M.</th>\n",
       "      <th>Price</th>\n",
       "    </tr>\n",
       "  </thead>\n",
       "  <tbody>\n",
       "    <tr>\n",
       "      <th>0</th>\n",
       "      <td>100 Darter (S.L. Industries)</td>\n",
       "      <td>Piston</td>\n",
       "      <td>145</td>\n",
       "      <td>104</td>\n",
       "      <td>91.0</td>\n",
       "      <td>46.0</td>\n",
       "      <td>36</td>\n",
       "      <td>450</td>\n",
       "      <td>900.0</td>\n",
       "      <td>1300.0</td>\n",
       "      <td>2050</td>\n",
       "      <td>1180</td>\n",
       "      <td>303</td>\n",
       "      <td>449</td>\n",
       "      <td>370</td>\n",
       "      <td>1300000.0</td>\n",
       "    </tr>\n",
       "    <tr>\n",
       "      <th>1</th>\n",
       "      <td>7 CCM Champ</td>\n",
       "      <td>Piston</td>\n",
       "      <td>85</td>\n",
       "      <td>89</td>\n",
       "      <td>83.0</td>\n",
       "      <td>44.0</td>\n",
       "      <td>15</td>\n",
       "      <td>600</td>\n",
       "      <td>720.0</td>\n",
       "      <td>800.0</td>\n",
       "      <td>1350</td>\n",
       "      <td>820</td>\n",
       "      <td>247</td>\n",
       "      <td>433</td>\n",
       "      <td>190</td>\n",
       "      <td>1230000.0</td>\n",
       "    </tr>\n",
       "    <tr>\n",
       "      <th>2</th>\n",
       "      <td>100 Darter (S.L. Industries)</td>\n",
       "      <td>Piston</td>\n",
       "      <td>90</td>\n",
       "      <td>90</td>\n",
       "      <td>78.0</td>\n",
       "      <td>37.0</td>\n",
       "      <td>19</td>\n",
       "      <td>650</td>\n",
       "      <td>475.0</td>\n",
       "      <td>850.0</td>\n",
       "      <td>1300</td>\n",
       "      <td>810</td>\n",
       "      <td>257</td>\n",
       "      <td>420</td>\n",
       "      <td>210</td>\n",
       "      <td>1600000.0</td>\n",
       "    </tr>\n",
       "    <tr>\n",
       "      <th>3</th>\n",
       "      <td>7 AC Champ</td>\n",
       "      <td>Piston</td>\n",
       "      <td>85</td>\n",
       "      <td>88</td>\n",
       "      <td>78.0</td>\n",
       "      <td>37.0</td>\n",
       "      <td>19</td>\n",
       "      <td>620</td>\n",
       "      <td>500.0</td>\n",
       "      <td>850.0</td>\n",
       "      <td>1300</td>\n",
       "      <td>800</td>\n",
       "      <td>257</td>\n",
       "      <td>420</td>\n",
       "      <td>210</td>\n",
       "      <td>1300000.0</td>\n",
       "    </tr>\n",
       "    <tr>\n",
       "      <th>4</th>\n",
       "      <td>100 Darter (S.L. Industries)</td>\n",
       "      <td>Piston</td>\n",
       "      <td>65</td>\n",
       "      <td>83</td>\n",
       "      <td>74.0</td>\n",
       "      <td>33.0</td>\n",
       "      <td>14</td>\n",
       "      <td>370</td>\n",
       "      <td>632.0</td>\n",
       "      <td>885.0</td>\n",
       "      <td>1220</td>\n",
       "      <td>740</td>\n",
       "      <td>257</td>\n",
       "      <td>420</td>\n",
       "      <td>175</td>\n",
       "      <td>1250000.0</td>\n",
       "    </tr>\n",
       "  </tbody>\n",
       "</table>\n",
       "</div>"
      ],
      "text/plain": [
       "                     Model Name Engine Type HP or lbs thr ea engine  \\\n",
       "0  100 Darter (S.L. Industries)      Piston                     145   \n",
       "1                   7 CCM Champ      Piston                      85   \n",
       "2  100 Darter (S.L. Industries)      Piston                      90   \n",
       "3                    7 AC Champ      Piston                      85   \n",
       "4  100 Darter (S.L. Industries)      Piston                      65   \n",
       "\n",
       "  Max speed Knots  Rcmnd cruise Knots  Stall Knots dirty  Fuel gal/lbs  \\\n",
       "0             104                91.0               46.0            36   \n",
       "1              89                83.0               44.0            15   \n",
       "2              90                78.0               37.0            19   \n",
       "3              88                78.0               37.0            19   \n",
       "4              83                74.0               33.0            14   \n",
       "\n",
       "  All eng rate of climb  Eng out rate of climb  Takeoff over 50ft  \\\n",
       "0                   450                  900.0             1300.0   \n",
       "1                   600                  720.0              800.0   \n",
       "2                   650                  475.0              850.0   \n",
       "3                   620                  500.0              850.0   \n",
       "4                   370                  632.0              885.0   \n",
       "\n",
       "  Landing over 50ft Empty weight lbs  Length ft/in  Wing span ft/in  \\\n",
       "0              2050             1180           303              449   \n",
       "1              1350              820           247              433   \n",
       "2              1300              810           257              420   \n",
       "3              1300              800           257              420   \n",
       "4              1220              740           257              420   \n",
       "\n",
       "  Range N.M.      Price  \n",
       "0        370  1300000.0  \n",
       "1        190  1230000.0  \n",
       "2        210  1600000.0  \n",
       "3        210  1300000.0  \n",
       "4        175  1250000.0  "
      ]
     },
     "execution_count": 110,
     "metadata": {},
     "output_type": "execute_result"
    }
   ],
   "source": [
    "for col in [ 'Length ft/in', 'Wing span ft/in']:\n",
    "    df[col] = df[col].apply(ft_to_inch)\n",
    "df.head()    "
   ]
  },
  {
   "cell_type": "code",
   "execution_count": 111,
   "metadata": {},
   "outputs": [
    {
     "data": {
      "text/plain": [
       "array(['Piston', 'Propjet', 'Jet', 'piston'], dtype=object)"
      ]
     },
     "execution_count": 111,
     "metadata": {},
     "output_type": "execute_result"
    }
   ],
   "source": [
    "df['Engine Type'].unique()"
   ]
  },
  {
   "cell_type": "code",
   "execution_count": 112,
   "metadata": {},
   "outputs": [],
   "source": [
    "df['Engine Type'] = df['Engine Type'].str.lower()"
   ]
  },
  {
   "cell_type": "code",
   "execution_count": 113,
   "metadata": {},
   "outputs": [],
   "source": [
    "import re\n",
    "for col in df.columns[2:]:\n",
    "    if df[col].dtype == 'object':\n",
    "        df[col] = df[col].str.extract(r'(\\d+)')"
   ]
  },
  {
   "cell_type": "code",
   "execution_count": 114,
   "metadata": {},
   "outputs": [],
   "source": [
    "for col in df.columns[2:]:\n",
    "    if df[col].dtype == 'object':\n",
    "        df[col]=df[col].astype(float)\n"
   ]
  },
  {
   "cell_type": "code",
   "execution_count": 115,
   "metadata": {},
   "outputs": [
    {
     "data": {
      "text/html": [
       "<div>\n",
       "<style scoped>\n",
       "    .dataframe tbody tr th:only-of-type {\n",
       "        vertical-align: middle;\n",
       "    }\n",
       "\n",
       "    .dataframe tbody tr th {\n",
       "        vertical-align: top;\n",
       "    }\n",
       "\n",
       "    .dataframe thead th {\n",
       "        text-align: right;\n",
       "    }\n",
       "</style>\n",
       "<table border=\"1\" class=\"dataframe\">\n",
       "  <thead>\n",
       "    <tr style=\"text-align: right;\">\n",
       "      <th></th>\n",
       "      <th>Model Name</th>\n",
       "      <th>Engine Type</th>\n",
       "      <th>HP or lbs thr ea engine</th>\n",
       "      <th>Max speed Knots</th>\n",
       "      <th>Rcmnd cruise Knots</th>\n",
       "      <th>Stall Knots dirty</th>\n",
       "      <th>Fuel gal/lbs</th>\n",
       "      <th>All eng rate of climb</th>\n",
       "      <th>Eng out rate of climb</th>\n",
       "      <th>Takeoff over 50ft</th>\n",
       "      <th>Landing over 50ft</th>\n",
       "      <th>Empty weight lbs</th>\n",
       "      <th>Length ft/in</th>\n",
       "      <th>Wing span ft/in</th>\n",
       "      <th>Range N.M.</th>\n",
       "      <th>Price</th>\n",
       "    </tr>\n",
       "  </thead>\n",
       "  <tbody>\n",
       "    <tr>\n",
       "      <th>0</th>\n",
       "      <td>100 Darter (S.L. Industries)</td>\n",
       "      <td>piston</td>\n",
       "      <td>145.0</td>\n",
       "      <td>104.0</td>\n",
       "      <td>91.0</td>\n",
       "      <td>46.0</td>\n",
       "      <td>36</td>\n",
       "      <td>450.0</td>\n",
       "      <td>900.0</td>\n",
       "      <td>1300.0</td>\n",
       "      <td>2050.0</td>\n",
       "      <td>1180.0</td>\n",
       "      <td>303</td>\n",
       "      <td>449</td>\n",
       "      <td>370.0</td>\n",
       "      <td>1300000.0</td>\n",
       "    </tr>\n",
       "    <tr>\n",
       "      <th>1</th>\n",
       "      <td>7 CCM Champ</td>\n",
       "      <td>piston</td>\n",
       "      <td>85.0</td>\n",
       "      <td>89.0</td>\n",
       "      <td>83.0</td>\n",
       "      <td>44.0</td>\n",
       "      <td>15</td>\n",
       "      <td>600.0</td>\n",
       "      <td>720.0</td>\n",
       "      <td>800.0</td>\n",
       "      <td>1350.0</td>\n",
       "      <td>820.0</td>\n",
       "      <td>247</td>\n",
       "      <td>433</td>\n",
       "      <td>190.0</td>\n",
       "      <td>1230000.0</td>\n",
       "    </tr>\n",
       "    <tr>\n",
       "      <th>2</th>\n",
       "      <td>100 Darter (S.L. Industries)</td>\n",
       "      <td>piston</td>\n",
       "      <td>90.0</td>\n",
       "      <td>90.0</td>\n",
       "      <td>78.0</td>\n",
       "      <td>37.0</td>\n",
       "      <td>19</td>\n",
       "      <td>650.0</td>\n",
       "      <td>475.0</td>\n",
       "      <td>850.0</td>\n",
       "      <td>1300.0</td>\n",
       "      <td>810.0</td>\n",
       "      <td>257</td>\n",
       "      <td>420</td>\n",
       "      <td>210.0</td>\n",
       "      <td>1600000.0</td>\n",
       "    </tr>\n",
       "    <tr>\n",
       "      <th>3</th>\n",
       "      <td>7 AC Champ</td>\n",
       "      <td>piston</td>\n",
       "      <td>85.0</td>\n",
       "      <td>88.0</td>\n",
       "      <td>78.0</td>\n",
       "      <td>37.0</td>\n",
       "      <td>19</td>\n",
       "      <td>620.0</td>\n",
       "      <td>500.0</td>\n",
       "      <td>850.0</td>\n",
       "      <td>1300.0</td>\n",
       "      <td>800.0</td>\n",
       "      <td>257</td>\n",
       "      <td>420</td>\n",
       "      <td>210.0</td>\n",
       "      <td>1300000.0</td>\n",
       "    </tr>\n",
       "    <tr>\n",
       "      <th>4</th>\n",
       "      <td>100 Darter (S.L. Industries)</td>\n",
       "      <td>piston</td>\n",
       "      <td>65.0</td>\n",
       "      <td>83.0</td>\n",
       "      <td>74.0</td>\n",
       "      <td>33.0</td>\n",
       "      <td>14</td>\n",
       "      <td>370.0</td>\n",
       "      <td>632.0</td>\n",
       "      <td>885.0</td>\n",
       "      <td>1220.0</td>\n",
       "      <td>740.0</td>\n",
       "      <td>257</td>\n",
       "      <td>420</td>\n",
       "      <td>175.0</td>\n",
       "      <td>1250000.0</td>\n",
       "    </tr>\n",
       "  </tbody>\n",
       "</table>\n",
       "</div>"
      ],
      "text/plain": [
       "                     Model Name Engine Type  HP or lbs thr ea engine  \\\n",
       "0  100 Darter (S.L. Industries)      piston                    145.0   \n",
       "1                   7 CCM Champ      piston                     85.0   \n",
       "2  100 Darter (S.L. Industries)      piston                     90.0   \n",
       "3                    7 AC Champ      piston                     85.0   \n",
       "4  100 Darter (S.L. Industries)      piston                     65.0   \n",
       "\n",
       "   Max speed Knots  Rcmnd cruise Knots  Stall Knots dirty  Fuel gal/lbs  \\\n",
       "0            104.0                91.0               46.0            36   \n",
       "1             89.0                83.0               44.0            15   \n",
       "2             90.0                78.0               37.0            19   \n",
       "3             88.0                78.0               37.0            19   \n",
       "4             83.0                74.0               33.0            14   \n",
       "\n",
       "   All eng rate of climb  Eng out rate of climb  Takeoff over 50ft  \\\n",
       "0                  450.0                  900.0             1300.0   \n",
       "1                  600.0                  720.0              800.0   \n",
       "2                  650.0                  475.0              850.0   \n",
       "3                  620.0                  500.0              850.0   \n",
       "4                  370.0                  632.0              885.0   \n",
       "\n",
       "   Landing over 50ft  Empty weight lbs  Length ft/in  Wing span ft/in  \\\n",
       "0             2050.0            1180.0           303              449   \n",
       "1             1350.0             820.0           247              433   \n",
       "2             1300.0             810.0           257              420   \n",
       "3             1300.0             800.0           257              420   \n",
       "4             1220.0             740.0           257              420   \n",
       "\n",
       "   Range N.M.      Price  \n",
       "0       370.0  1300000.0  \n",
       "1       190.0  1230000.0  \n",
       "2       210.0  1600000.0  \n",
       "3       210.0  1300000.0  \n",
       "4       175.0  1250000.0  "
      ]
     },
     "execution_count": 115,
     "metadata": {},
     "output_type": "execute_result"
    }
   ],
   "source": [
    "df.head()"
   ]
  },
  {
   "cell_type": "markdown",
   "metadata": {},
   "source": [
    "also we are going to get rid of the firt column ``Model Name`` for it`s non relevency"
   ]
  },
  {
   "cell_type": "code",
   "execution_count": 116,
   "metadata": {},
   "outputs": [],
   "source": [
    "df.drop(df.columns[0],axis=1,inplace=True)"
   ]
  },
  {
   "cell_type": "code",
   "execution_count": 117,
   "metadata": {},
   "outputs": [
    {
     "data": {
      "text/plain": [
       "Engine Type                 object\n",
       "HP or lbs thr ea engine    float64\n",
       "Max speed Knots            float64\n",
       "Rcmnd cruise Knots         float64\n",
       "Stall Knots dirty          float64\n",
       "Fuel gal/lbs                 int64\n",
       "All eng rate of climb      float64\n",
       "Eng out rate of climb      float64\n",
       "Takeoff over 50ft          float64\n",
       "Landing over 50ft          float64\n",
       "Empty weight lbs           float64\n",
       "Length ft/in                 int64\n",
       "Wing span ft/in              int64\n",
       "Range N.M.                 float64\n",
       "Price                      float64\n",
       "dtype: object"
      ]
     },
     "execution_count": 117,
     "metadata": {},
     "output_type": "execute_result"
    }
   ],
   "source": [
    "df.dtypes"
   ]
  },
  {
   "cell_type": "code",
   "execution_count": 127,
   "metadata": {},
   "outputs": [],
   "source": [
    "df.columns[1:14]"
   ]
  },
  {
   "cell_type": "markdown",
   "metadata": {},
   "source": []
  },
  {
   "cell_type": "code",
   "execution_count": null,
   "metadata": {},
   "outputs": [],
   "source": []
  }
 ],
 "metadata": {
  "kernelspec": {
   "display_name": "env_1-",
   "language": "python",
   "name": "python3"
  },
  "language_info": {
   "codemirror_mode": {
    "name": "ipython",
    "version": 3
   },
   "file_extension": ".py",
   "mimetype": "text/x-python",
   "name": "python",
   "nbconvert_exporter": "python",
   "pygments_lexer": "ipython3",
   "version": "3.11.10"
  }
 },
 "nbformat": 4,
 "nbformat_minor": 2
}
